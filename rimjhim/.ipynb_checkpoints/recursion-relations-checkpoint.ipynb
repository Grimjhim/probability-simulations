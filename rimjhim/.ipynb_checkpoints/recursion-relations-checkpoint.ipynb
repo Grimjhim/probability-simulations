{
 "cells": [
  {
   "cell_type": "code",
   "execution_count": 6,
   "id": "b6372973",
   "metadata": {},
   "outputs": [],
   "source": [
    "# define the gamma function \n",
    "import math\n",
    "import numpy as np\n",
    "import matplotlib.pyplot as plot"
   ]
  },
  {
   "cell_type": "code",
   "execution_count": 7,
   "id": "a31e22fa",
   "metadata": {},
   "outputs": [],
   "source": [
    "x = math.gamma(2)"
   ]
  },
  {
   "cell_type": "code",
   "execution_count": 5,
   "id": "ca87cdb0",
   "metadata": {},
   "outputs": [
    {
     "data": {
      "text/plain": [
       "1.0"
      ]
     },
     "execution_count": 5,
     "metadata": {},
     "output_type": "execute_result"
    }
   ],
   "source": [
    "x"
   ]
  },
  {
   "cell_type": "code",
   "execution_count": 37,
   "id": "3ca7b9a5",
   "metadata": {},
   "outputs": [
    {
     "name": "stdout",
     "output_type": "stream",
     "text": [
      "Value of v:2\n",
      "Value of a:2\n",
      "Value of b:2\n",
      "g1= 1.3293403881791372 g3= 2.0\n"
     ]
    }
   ],
   "source": [
    "v= int(input('Value of v:'))\n",
    "a= int(input('Value of a:'))\n",
    "b= int(input('Value of b:'))\n",
    "\n",
    "\n",
    "\n",
    "g2= math.gamma(v+b/(a+b))\n",
    "g3= math.gamma(v+1)\n",
    "\n",
    "def g4(t):\n",
    "    return math.gamma(t+b/(a+b))\n",
    "\n",
    "\n"
   ]
  },
  {
   "cell_type": "code",
   "execution_count": 47,
   "id": "6f8972b4",
   "metadata": {},
   "outputs": [
    {
     "ename": "SyntaxError",
     "evalue": "invalid syntax (<ipython-input-47-1e233a5b61a8>, line 4)",
     "output_type": "error",
     "traceback": [
      "\u001b[1;36m  File \u001b[1;32m\"<ipython-input-47-1e233a5b61a8>\"\u001b[1;36m, line \u001b[1;32m4\u001b[0m\n\u001b[1;33m    x = np.linspace(0,10,1000)\u001b[0m\n\u001b[1;37m    ^\u001b[0m\n\u001b[1;31mSyntaxError\u001b[0m\u001b[1;31m:\u001b[0m invalid syntax\n"
     ]
    }
   ],
   "source": [
    "def g1(t) :\n",
    "    return (math.gamma(t+1)\n",
    "            \n",
    "x = np.linspace(0,10,1000)\n",
    "y = g1(x)\n",
    "plot.plot(x,y)\n",
    "plot.show\n"
   ]
  },
  {
   "cell_type": "code",
   "execution_count": 48,
   "id": "545243e8",
   "metadata": {},
   "outputs": [],
   "source": [
    "def sin(t):\n",
    "    return np.sin(t)"
   ]
  },
  {
   "cell_type": "code",
   "execution_count": null,
   "id": "c144932f",
   "metadata": {},
   "outputs": [],
   "source": []
  },
  {
   "cell_type": "code",
   "execution_count": null,
   "id": "ef1ebf2c",
   "metadata": {},
   "outputs": [],
   "source": []
  }
 ],
 "metadata": {
  "kernelspec": {
   "display_name": "Python 3",
   "language": "python",
   "name": "python3"
  },
  "language_info": {
   "codemirror_mode": {
    "name": "ipython",
    "version": 3
   },
   "file_extension": ".py",
   "mimetype": "text/x-python",
   "name": "python",
   "nbconvert_exporter": "python",
   "pygments_lexer": "ipython3",
   "version": "3.8.8"
  }
 },
 "nbformat": 4,
 "nbformat_minor": 5
}
