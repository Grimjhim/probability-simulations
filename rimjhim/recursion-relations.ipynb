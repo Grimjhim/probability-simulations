{
 "cells": [
  {
   "cell_type": "code",
   "execution_count": null,
   "id": "21ffc20e",
   "metadata": {},
   "outputs": [],
   "source": [
    "# define the gamma function \n",
    "import math\n",
    "import numpy as np\n",
    "import matplotlib.pyplot as plt\n",
    "import pylab"
   ]
  },
  {
   "cell_type": "code",
   "execution_count": null,
   "id": "a55e1bac",
   "metadata": {},
   "outputs": [],
   "source": [
    "x = math.gamma(3)"
   ]
  },
  {
   "cell_type": "code",
   "execution_count": null,
   "id": "72155049",
   "metadata": {},
   "outputs": [],
   "source": [
    "x"
   ]
  },
  {
   "cell_type": "code",
   "execution_count": null,
   "id": "589bf510",
   "metadata": {},
   "outputs": [],
   "source": [
    "v=2 #int(input('Value of v:'))\n",
    "a= 2 #int(input('Value of a:'))\n",
    "b= 2 #int(input('Value of b:'))\n",
    "\n",
    "\n",
    "\n",
    "g2= math.gamma(v+b/(a+b))\n",
    "g3= math.gamma(v+1)\n",
    "\n",
    "def g4(t):\n",
    "    return math.gamma(t+b/(a+b))\n",
    "\n",
    "\n"
   ]
  },
  {
   "cell_type": "code",
   "execution_count": null,
   "id": "3ee6b556",
   "metadata": {},
   "outputs": [],
   "source": [
    "def g1(t) :\n",
    "    return math.gamma(t+1)\n",
    "            \n",
    "x = np.linspace(0,10,1000)\n",
    "y = g1(x)\n",
    "pylab.plot(x,y)\n",
    "pylab.show\n"
   ]
  },
  {
   "cell_type": "code",
   "execution_count": null,
   "id": "8474a155",
   "metadata": {},
   "outputs": [],
   "source": [
    "def sin(t):\n",
    "    return np.sin(t)\n",
    "x = np.linspace(0,10,1000)\n",
    "y = sin(x)\n",
    "plt.plot(x,y)\n",
    "plt.show"
   ]
  },
  {
   "cell_type": "code",
   "execution_count": null,
   "id": "cc41ae52",
   "metadata": {},
   "outputs": [],
   "source": []
  },
  {
   "cell_type": "code",
   "execution_count": null,
   "id": "a36974da",
   "metadata": {},
   "outputs": [],
   "source": []
  }
 ],
 "metadata": {
  "kernelspec": {
   "display_name": "Python 3",
   "language": "python",
   "name": "python3"
  },
  "language_info": {
   "codemirror_mode": {
    "name": "ipython",
    "version": 3
   },
   "file_extension": ".py",
   "mimetype": "text/x-python",
   "name": "python",
   "nbconvert_exporter": "python",
   "pygments_lexer": "ipython3",
   "version": "3.8.8"
  }
 },
 "nbformat": 4,
 "nbformat_minor": 5
}
