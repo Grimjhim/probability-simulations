{
  "cells": [
    {
      "cell_type": "markdown",
      "metadata": {
        "id": "view-in-github",
        "colab_type": "text"
      },
      "source": [
        "<a href=\"https://colab.research.google.com/github/Grimjhim/probability-simulations/blob/main/Final_recursion_relations.ipynb\" target=\"_parent\"><img src=\"https://colab.research.google.com/assets/colab-badge.svg\" alt=\"Open In Colab\"/></a>"
      ]
    },
    {
      "cell_type": "code",
      "execution_count": null,
      "id": "337aed4a",
      "metadata": {
        "id": "337aed4a"
      },
      "outputs": [],
      "source": [
        "# define the gamma function \n",
        "import math\n",
        "import numpy as np\n",
        "import matplotlib.pyplot as plt\n"
      ]
    },
    {
      "cell_type": "code",
      "source": [
        "#PRODUCT OF GAMMA FUNCTIONS\n",
        "\n",
        "v=2 #int(input('Value of v:'))\n",
        "a=1 #int(input('Value of a:'))\n",
        "b=1 #int(input('Value of b:'))\n",
        "\n",
        "def g1(t):\n",
        "\treturn math.gamma(t+1)\n",
        " \n",
        "def g4(t):\n",
        "  return math.gamma(t+b/(a+b)) \n",
        "\n",
        "g2= math.gamma(v+b/(a+b))\n",
        "g3= math.gamma(v+1)\n",
        "\n",
        "def g4(t):\n",
        "    return math.gamma(t+b/(a+b))\n",
        "\n",
        "def x(t):\n",
        "  return (b/a)*g1(t)*g2/(g3*g4(t)) - (b/a) \n",
        "\n",
        "#p = np.arange(v,11)\n",
        "#print(p) \n",
        "#print(len(p))\n",
        "#y=[]\n",
        "#for i in range(0,len(p)):\n",
        "#\ty.append(x(p[i]))\n",
        "\n",
        "#print(y) \n",
        "#plt.plot(p,y,'o')\n",
        "#plt.show()    \n",
        "\n",
        "def z(t):\n",
        "  return (b/a)*g2*t**(a/(a+b))/g3\n",
        "\n",
        "l = np.arange(0,11)\n",
        "print(len(l))\n",
        "y=[]\n",
        "for i in range(0,len(l)):\n",
        "\ty.append(z(l[i]))\n",
        "print(l) \n",
        "print(y) \n",
        "plt.plot(l,y)\n",
        "plt.show()  \n",
        "                      \n",
        "\n"
      ],
      "metadata": {
        "colab": {
          "base_uri": "https://localhost:8080/",
          "height": 337
        },
        "id": "yl8FzvV1CG8S",
        "outputId": "02ffbd6f-36f5-4ce8-d6be-8a421e55d103"
      },
      "id": "yl8FzvV1CG8S",
      "execution_count": null,
      "outputs": [
        {
          "output_type": "stream",
          "name": "stdout",
          "text": [
            "11\n",
            "[ 0  1  2  3  4  5  6  7  8  9 10]\n",
            "[0.0, 0.6646701940895686, 0.9399856029866254, 1.1512425464397997, 1.3293403881791372, 1.4862477366022544, 1.6281028227561023, 1.7585520374380321, 1.8799712059732507, 1.994010582268706, 2.1018717061492236]\n"
          ]
        },
        {
          "output_type": "display_data",
          "data": {
            "text/plain": [
              "<Figure size 432x288 with 1 Axes>"
            ],
            "image/png": "[encoded data removed]"
          },
          "metadata": {
            "needs_background": "light"
          }
        }
      ]
    },
    {
      "cell_type": "code",
      "source": [],
      "metadata": {
        "id": "JYmqVQZJIyC0"
      },
      "id": "JYmqVQZJIyC0",
      "execution_count": null,
      "outputs": []
    },
    {
      "cell_type": "code",
      "source": [],
      "metadata": {
        "id": "ZfkqRTMy191o"
      },
      "id": "ZfkqRTMy191o",
      "execution_count": null,
      "outputs": []
    },
    {
      "cell_type": "code",
      "source": [
        "# RECURSION\n",
        "\n",
        "v=int(input('Value of v:'))\n",
        "a= int(input('Value of a:'))\n",
        "b= int(input('Value of b:'))    \n",
        "\n",
        "def T(t):\n",
        "  return a*t + b*t + b  #Tt=a*t+b*t+b\n",
        "\n",
        "def muf(t):\n",
        "  return 1+a/T(t)          #at=1+a/Tt\n",
        "\n",
        "def adf(t):\n",
        "  return b/T(t)         #bt=b/Tt\n",
        " \n",
        "def x(t):\n",
        "  if t== v:\n",
        "    return 0\n",
        "  else:\n",
        "     return muf(t-1)*x(t-1)+adf(t-1)  \n",
        "\n",
        "\n",
        "p = np.arange(v,11)\n",
        "print(p) \n",
        "print(len(p))\n",
        "y=[]\n",
        "for i in range(0,len(p)):\n",
        "\ty.append(x(p[i]))\n",
        "\n",
        "print(y) \n",
        "plt.plot(p,y,'o')\n",
        "plt.show()    \n"
      ],
      "metadata": {
        "colab": {
          "base_uri": "https://localhost:8080/",
          "height": 369
        },
        "id": "DjIka5ukJ7Bs",
        "outputId": "ad3c85b1-170d-48a3-a702-2135a7245d8f"
      },
      "id": "DjIka5ukJ7Bs",
      "execution_count": null,
      "outputs": [
        {
          "output_type": "stream",
          "name": "stdout",
          "text": [
            "Value of v:2\n",
            "Value of a:1\n",
            "Value of b:1\n",
            "[ 2  3  4  5  6  7  8  9 10]\n",
            "9\n",
            "[0, 0.2, 0.37142857142857144, 0.5238095238095238, 0.6623376623376623, 0.7902097902097902, 0.9095571095571096, 1.0218839983545867, 1.128298945636407]\n"
          ]
        },
        {
          "output_type": "display_data",
          "data": {
            "text/plain": [
              "<Figure size 432x288 with 1 Axes>"
            ],
            "image/png": "[encoded data removed]"
          },
          "metadata": {
            "needs_background": "light"
          }
        }
      ]
    },
    {
      "cell_type": "code",
      "source": [],
      "metadata": {
        "colab": {
          "base_uri": "https://localhost:8080/"
        },
        "id": "K8BdRUV3a-nY",
        "outputId": "804b155b-2ea1-400d-c7de-0196ed2f69e3"
      },
      "id": "K8BdRUV3a-nY",
      "execution_count": null,
      "outputs": [
        {
          "output_type": "execute_result",
          "data": {
            "text/plain": [
              "11"
            ]
          },
          "metadata": {},
          "execution_count": 89
        }
      ]
    },
    {
      "cell_type": "code",
      "source": [
        "import math\n",
        "import numpy as np\n",
        "import matplotlib.pyplot as plt\n",
        "def g1(t):\n",
        "\treturn math.gamma(t+1)\n",
        "x = np.arange(0,11)\n",
        "print(len(x))\n",
        "y=[]\n",
        "for i in range(0,len(x)):\n",
        "\ty.append(g1(x[i]))\n",
        "print(x) \n",
        "print(y) \n",
        "plt.plot(x,y)\n",
        "plt.show()"
      ],
      "metadata": {
        "colab": {
          "base_uri": "https://localhost:8080/",
          "height": 328
        },
        "id": "vG_lnAlbCZG3",
        "outputId": "97792c72-7d4b-44d1-8a5b-226509bb5358"
      },
      "id": "vG_lnAlbCZG3",
      "execution_count": null,
      "outputs": [
        {
          "output_type": "stream",
          "name": "stdout",
          "text": [
            "11\n",
            "[ 0  1  2  3  4  5  6  7  8  9 10]\n",
            "[1.0, 1.0, 2.0, 6.0, 24.0, 120.0, 720.0, 5040.0, 40320.0, 362880.0, 3628800.0]\n"
          ]
        },
        {
          "output_type": "display_data",
          "data": {
            "text/plain": [
              "<Figure size 432x288 with 1 Axes>"
            ],
            "image/png": "[encoded data removed]"
          },
          "metadata": {
            "needs_background": "light"
          }
        }
      ]
    },
    {
      "cell_type": "code",
      "source": [],
      "metadata": {
        "colab": {
          "base_uri": "https://localhost:8080/",
          "height": 373
        },
        "id": "9yW9o9wsCh_d",
        "outputId": "751e9870-432d-4972-b190-d1f5955b8484"
      },
      "id": "9yW9o9wsCh_d",
      "execution_count": null,
      "outputs": [
        {
          "output_type": "stream",
          "name": "stdout",
          "text": [
            "11\n"
          ]
        },
        {
          "output_type": "error",
          "ename": "TypeError",
          "evalue": "ignored",
          "traceback": [
            "\u001b[0;31m---------------------------------------------------------------------------\u001b[0m",
            "\u001b[0;31mTypeError\u001b[0m                                 Traceback (most recent call last)",
            "\u001b[0;32m<ipython-input-110-71f89e209964>\u001b[0m in \u001b[0;36m<module>\u001b[0;34m\u001b[0m\n\u001b[1;32m      6\u001b[0m \u001b[0my\u001b[0m\u001b[0;34m=\u001b[0m\u001b[0;34m[\u001b[0m\u001b[0;34m]\u001b[0m\u001b[0;34m\u001b[0m\u001b[0;34m\u001b[0m\u001b[0m\n\u001b[1;32m      7\u001b[0m \u001b[0;32mfor\u001b[0m \u001b[0mi\u001b[0m \u001b[0;32min\u001b[0m \u001b[0mrange\u001b[0m\u001b[0;34m(\u001b[0m\u001b[0;36m0\u001b[0m\u001b[0;34m,\u001b[0m\u001b[0mlen\u001b[0m\u001b[0;34m(\u001b[0m\u001b[0mp\u001b[0m\u001b[0;34m)\u001b[0m\u001b[0;34m)\u001b[0m\u001b[0;34m:\u001b[0m\u001b[0;34m\u001b[0m\u001b[0;34m\u001b[0m\u001b[0m\n\u001b[0;32m----> 8\u001b[0;31m         \u001b[0my\u001b[0m\u001b[0;34m.\u001b[0m\u001b[0mappend\u001b[0m\u001b[0;34m(\u001b[0m\u001b[0mz\u001b[0m\u001b[0;34m(\u001b[0m\u001b[0mp\u001b[0m\u001b[0;34m[\u001b[0m\u001b[0mi\u001b[0m\u001b[0;34m]\u001b[0m\u001b[0;34m)\u001b[0m\u001b[0;34m)\u001b[0m\u001b[0;34m\u001b[0m\u001b[0;34m\u001b[0m\u001b[0m\n\u001b[0m\u001b[1;32m      9\u001b[0m \u001b[0mprint\u001b[0m\u001b[0;34m(\u001b[0m\u001b[0mp\u001b[0m\u001b[0;34m)\u001b[0m\u001b[0;34m\u001b[0m\u001b[0;34m\u001b[0m\u001b[0m\n\u001b[1;32m     10\u001b[0m \u001b[0mprint\u001b[0m\u001b[0;34m(\u001b[0m\u001b[0my\u001b[0m\u001b[0;34m)\u001b[0m\u001b[0;34m\u001b[0m\u001b[0;34m\u001b[0m\u001b[0m\n",
            "\u001b[0;32m<ipython-input-110-71f89e209964>\u001b[0m in \u001b[0;36mz\u001b[0;34m(t)\u001b[0m\n\u001b[1;32m      1\u001b[0m \u001b[0;32mdef\u001b[0m \u001b[0mz\u001b[0m\u001b[0;34m(\u001b[0m\u001b[0mt\u001b[0m\u001b[0;34m)\u001b[0m\u001b[0;34m:\u001b[0m\u001b[0;34m\u001b[0m\u001b[0;34m\u001b[0m\u001b[0m\n\u001b[0;32m----> 2\u001b[0;31m   \u001b[0;32mreturn\u001b[0m \u001b[0;34m(\u001b[0m\u001b[0mb\u001b[0m\u001b[0;34m/\u001b[0m\u001b[0ma\u001b[0m\u001b[0;34m)\u001b[0m\u001b[0;34m*\u001b[0m\u001b[0mg2\u001b[0m\u001b[0;34m*\u001b[0m\u001b[0mt\u001b[0m\u001b[0;34m^\u001b[0m\u001b[0;34m(\u001b[0m\u001b[0ma\u001b[0m\u001b[0;34m/\u001b[0m\u001b[0;34m(\u001b[0m\u001b[0ma\u001b[0m\u001b[0;34m+\u001b[0m\u001b[0mb\u001b[0m\u001b[0;34m)\u001b[0m\u001b[0;34m)\u001b[0m\u001b[0;34m/\u001b[0m\u001b[0mg3\u001b[0m\u001b[0;34m\u001b[0m\u001b[0;34m\u001b[0m\u001b[0m\n\u001b[0m\u001b[1;32m      3\u001b[0m \u001b[0;34m\u001b[0m\u001b[0m\n\u001b[1;32m      4\u001b[0m \u001b[0mp\u001b[0m \u001b[0;34m=\u001b[0m \u001b[0mnp\u001b[0m\u001b[0;34m.\u001b[0m\u001b[0marange\u001b[0m\u001b[0;34m(\u001b[0m\u001b[0;36m0\u001b[0m\u001b[0;34m,\u001b[0m\u001b[0;36m11\u001b[0m\u001b[0;34m)\u001b[0m\u001b[0;34m\u001b[0m\u001b[0;34m\u001b[0m\u001b[0m\n\u001b[1;32m      5\u001b[0m \u001b[0mprint\u001b[0m\u001b[0;34m(\u001b[0m\u001b[0mlen\u001b[0m\u001b[0;34m(\u001b[0m\u001b[0mp\u001b[0m\u001b[0;34m)\u001b[0m\u001b[0;34m)\u001b[0m\u001b[0;34m\u001b[0m\u001b[0;34m\u001b[0m\u001b[0m\n",
            "\u001b[0;31mTypeError\u001b[0m: ufunc 'bitwise_xor' not supported for the input types, and the inputs could not be safely coerced to any supported types according to the casting rule ''safe''"
          ]
        }
      ]
    },
    {
      "cell_type": "code",
      "source": [
        "\n"
      ],
      "metadata": {
        "id": "1GlRINkwFZfn"
      },
      "id": "1GlRINkwFZfn",
      "execution_count": null,
      "outputs": []
    },
    {
      "cell_type": "code",
      "source": [
        "\n",
        "\n"
      ],
      "metadata": {
        "id": "bxWbKjHNRpoo"
      },
      "id": "bxWbKjHNRpoo",
      "execution_count": null,
      "outputs": []
    },
    {
      "cell_type": "code",
      "source": [],
      "metadata": {
        "id": "noSlKessTYOQ"
      },
      "id": "noSlKessTYOQ",
      "execution_count": null,
      "outputs": []
    }
  ],
  "metadata": {
    "kernelspec": {
      "display_name": "Python 3",
      "language": "python",
      "name": "python3"
    },
    "language_info": {
      "codemirror_mode": {
        "name": "ipython",
        "version": 3
      },
      "file_extension": ".py",
      "mimetype": "text/x-python",
      "name": "python",
      "nbconvert_exporter": "python",
      "pygments_lexer": "ipython3",
      "version": "3.8.8"
    },
    "colab": {
      "provenance": [],
      "include_colab_link": true
    }
  },
  "nbformat": 4,
  "nbformat_minor": 5
}